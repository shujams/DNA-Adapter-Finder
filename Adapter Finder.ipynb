{
 "cells": [
  {
   "cell_type": "markdown",
   "metadata": {},
   "source": [
    "# Adapter Finder\n",
    "## What is a sequence adapter?\n",
    "Sequence adapters are short DNA sequences serving the scope of fishing a (generally\n",
    "unknown) DNA sequence of interest for various purposes. Next Generation Sequencers (NGS) employ adapters\n",
    "to immobilize DNA fragments to sequencer flow cells in order to initiate bridge\n",
    "amplification as well as for downstream assignment of reads to the right samples. They are\n",
    "typically ligated to every single DNA molecule during library preparation.\n",
    "\n",
    "\n",
    "Workflows that process NGS data typically include a step to filter or remove (trim) adapter\n",
    "sequences. \n",
    "\n",
    "Here we will design a tool to determine if adapter sequences have been trimmed properly\n",
    "in an input FASTQ file. As a first step to solve this problem, we must calculate and\n",
    "output the frequency of all k-mers found in the input sequencing data, given an\n",
    "adapter of length k. Our tool will take two inputs: a FASTQ genomic data file and the adapter length (k) and will output a sorted list of all k-mers identified along with their frequency as observed in the input data:"
   ]
  },
  {
   "cell_type": "code",
   "execution_count": 4,
   "metadata": {},
   "outputs": [],
   "source": [
    "# Implementation (Inputs: FASTQ file, length of adapter k)\n",
    "\n",
    "from Bio.Seq import Seq\n",
    "from Bio import SeqIO\n",
    "import re\n",
    "\n",
    "def sort_kmers(k):\n",
    "    for seq_record in SeqIO.parse(\"SRR020192.fastq\", \"fastq\"): # input of FASTQ file\n",
    "    #print(seq_record.id)\n",
    "        #print(seq_record.seq)\n",
    "    # Start with an empty dictionary\n",
    "        counts = {}\n",
    "    # Calculate how many kmers of length k there are\n",
    "        num_kmers = len(seq_record.seq) - k + 1\n",
    "    #return num_kmers\n",
    "    # Loop over the kmer start positions\n",
    "    for i in range(num_kmers):\n",
    "        # Slice the string to get the kmer\n",
    "        kmer = seq_record.seq[i:i+k]\n",
    "        # Add the kmer to the dictionary if it's not there\n",
    "        if kmer not in counts:\n",
    "            counts[kmer] = 0\n",
    "        # Increment the count for this kmer\n",
    "        counts[kmer] += 1\n",
    "    # Return the final counts\n",
    "    return counts"
   ]
  },
  {
   "cell_type": "markdown",
   "metadata": {},
   "source": [
    "Now we can call our \"sort_kmers\" function, and in this example find all the 3 base k-mers (along with their counts) from the FASTQ file."
   ]
  },
  {
   "cell_type": "code",
   "execution_count": 5,
   "metadata": {},
   "outputs": [
    {
     "data": {
      "text/plain": [
       "{Seq('GAC'): 5,\n",
       " Seq('ACG'): 3,\n",
       " Seq('CGA'): 4,\n",
       " Seq('CGG'): 3,\n",
       " Seq('GGT'): 1,\n",
       " Seq('GTG'): 1,\n",
       " Seq('TGT'): 2,\n",
       " Seq('GTT'): 3,\n",
       " Seq('TTT'): 2,\n",
       " Seq('TTA'): 1,\n",
       " Seq('TAC'): 1,\n",
       " Seq('ACA'): 3,\n",
       " Seq('CAT'): 4,\n",
       " Seq('ATC'): 2,\n",
       " Seq('TCG'): 2,\n",
       " Seq('CGT'): 1,\n",
       " Seq('TTC'): 3,\n",
       " Seq('TCC'): 1,\n",
       " Seq('CCA'): 4,\n",
       " Seq('CAC'): 2,\n",
       " Seq('ACC'): 6,\n",
       " Seq('ACT'): 1,\n",
       " Seq('CTC'): 2,\n",
       " Seq('TCA'): 2,\n",
       " Seq('TCT'): 4,\n",
       " Seq('CTT'): 2,\n",
       " Seq('CTG'): 4,\n",
       " Seq('GTC'): 2,\n",
       " Seq('ATG'): 2,\n",
       " Seq('TGC'): 2,\n",
       " Seq('GCC'): 3,\n",
       " Seq('CAA'): 2,\n",
       " Seq('AAG'): 1,\n",
       " Seq('AGA'): 2,\n",
       " Seq('GAG'): 2,\n",
       " Seq('AGT'): 2,\n",
       " Seq('CGC'): 2,\n",
       " Seq('GCG'): 1,\n",
       " Seq('GAA'): 3,\n",
       " Seq('AAC'): 5,\n",
       " Seq('CCT'): 2,\n",
       " Seq('TGA'): 3,\n",
       " Seq('AAA'): 4,\n",
       " Seq('CAG'): 1,\n",
       " Seq('TTG'): 1,\n",
       " Seq('TGG'): 1,\n",
       " Seq('GGC'): 1,\n",
       " Seq('CCG'): 4,\n",
       " Seq('CCC'): 2,\n",
       " Seq('GGA'): 2,\n",
       " Seq('GAT'): 2,\n",
       " Seq('GCT'): 1,\n",
       " Seq('ATA'): 1,\n",
       " Seq('TAA'): 1}"
      ]
     },
     "execution_count": 5,
     "metadata": {},
     "output_type": "execute_result"
    }
   ],
   "source": [
    "sort_kmers(3)"
   ]
  },
  {
   "cell_type": "markdown",
   "metadata": {},
   "source": [
    "Furthermore if, instead of the length of the adapter, we wanted to explore the actual adapter\n",
    "sequence, we can search our data for the specific sequence with the following tool:"
   ]
  },
  {
   "cell_type": "code",
   "execution_count": 6,
   "metadata": {},
   "outputs": [],
   "source": [
    "# Unique adapter sequence counter (including possible overlaps)\n",
    "\n",
    "from Bio import SeqIO\n",
    "from Bio.Seq import Seq\n",
    "import re\n",
    "\n",
    "records = SeqIO.parse(\"SRR020192.fastq\", \"fastq\") # input of FASTQ file\n",
    "\n",
    "def count_seq(s):\n",
    "    counter=0\n",
    "    for record in records:\n",
    "        counter += re.findall(s, str(record.seq)).count(s)\n",
    "\n",
    "    print(f\"The adapter sequence {s} was found {counter} times.\")"
   ]
  },
  {
   "cell_type": "markdown",
   "metadata": {},
   "source": [
    "Now we can call our \"count_seq\" function with a DNA adapter sequence string and we will be given the exact count for how many times that sequence occurs in our FASTQ data file (taking into account possible overlaps)."
   ]
  },
  {
   "cell_type": "code",
   "execution_count": 7,
   "metadata": {},
   "outputs": [
    {
     "name": "stdout",
     "output_type": "stream",
     "text": [
      "The adapter sequence ACCGAC was found 38747 times.\n"
     ]
    }
   ],
   "source": [
    "count_seq('ACCGAC')"
   ]
  }
 ],
 "metadata": {
  "kernelspec": {
   "display_name": "Python 3",
   "language": "python",
   "name": "python3"
  },
  "language_info": {
   "codemirror_mode": {
    "name": "ipython",
    "version": 3
   },
   "file_extension": ".py",
   "mimetype": "text/x-python",
   "name": "python",
   "nbconvert_exporter": "python",
   "pygments_lexer": "ipython3",
   "version": "3.7.7"
  }
 },
 "nbformat": 4,
 "nbformat_minor": 4
}
